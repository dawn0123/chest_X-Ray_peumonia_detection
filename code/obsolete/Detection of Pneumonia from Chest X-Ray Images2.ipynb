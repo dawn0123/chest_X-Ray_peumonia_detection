{
 "cells": [
  {
   "cell_type": "code",
   "execution_count": 64,
   "metadata": {},
   "outputs": [
    {
     "data": {
      "text/plain": [
       "'\\n* Author           : Anjana Tiha\\n* Project Name     : Detection of Pneumonia from Chest X-Ray Images using Convolutional Neural Network, and Transfer Learning.\\n* Description      : 1. Detected Pneumonia from Chest X-Ray images by retraining pretrained model “InceptionV3” \\n*                       with 5856 images of X-ray (1.15GB).\\n*                    2. For retraining removed output layers, freezed first few layers and Fine-tuned model for \\n*                       two new label classes (Pneumonia and Normal).\\n*                    3. Attained testing accuracy 83.44% and loss 0.42.\\n* Method           : \\n* Tools/Library    : Python, Keras, PyTorch, TensorFlow\\n* Version History  : 1.0.0.0\\n* Current Version  : 1.0.0.0\\n* Last Update      : 11.24.2018\\n* Comments         : Please use Anaconda editor for convenience.\\n'"
      ]
     },
     "execution_count": 64,
     "metadata": {},
     "output_type": "execute_result"
    }
   ],
   "source": [
    "'''\n",
    "* Author           : Anjana Tiha\n",
    "* Project Name     : Detection of Pneumonia from Chest X-Ray Images using Convolutional Neural Network, and Transfer Learning.\n",
    "* Description      : 1. Detected Pneumonia from Chest X-Ray images by retraining pretrained model “InceptionV3” \n",
    "*                       with 5856 images of X-ray (1.15GB).\n",
    "*                    2. For retraining removed output layers, freezed first few layers and Fine-tuned model for \n",
    "*                       two new label classes (Pneumonia and Normal).\n",
    "*                    3. Attained testing accuracy 83.44% and loss 0.42.\n",
    "* Method           : \n",
    "* Tools/Library    : Python, Keras, PyTorch, TensorFlow\n",
    "* Version History  : 1.0.0.0\n",
    "* Current Version  : 1.0.0.0\n",
    "* Last Update      : 11.24.2018\n",
    "* Comments         : Please use Anaconda editor for convenience.\n",
    "'''"
   ]
  },
  {
   "cell_type": "markdown",
   "metadata": {},
   "source": [
    "<pre>\n",
    "Author           : Anjana Tiha\n",
    "Project Name     : Detection of Pneumonia from Chest X-Ray Images using Convolutional Neural Network, \n",
    "                   and Transfer Learning.\n",
    "Description      : 1. Detected Pneumonia from Chest X-Ray images by retraining pretrained model “InceptionV3” \n",
    "                      with 5856 images of X-ray (1.15GB).\n",
    "                   2. For retraining removed output layers, freezed first few layers and Fine-tuned model for \n",
    "                      two new label classes (Pneumonia and Normal).\n",
    "                   3. Attained testing accuracy 83.44% and loss 0.42.\n",
    "Method           : \n",
    "Tools/Library    : Python, Keras, PyTorch, TensorFlow\n",
    "Version History  : 1.0.0.0\n",
    "Current Version  : 1.0.0.0\n",
    "Last Update      : 11.24.2018\n",
    "Comments         : Please use Anaconda editor for convenience.\n",
    "</pre>"
   ]
  },
  {
   "cell_type": "markdown",
   "metadata": {},
   "source": [
    "#### Code\n",
    "<pre>\n",
    "GitHub Link      : <a href=https://github.com/anjanatiha/Detection-of-Pneumonia-from-Chest-X-Ray-Images>Detection of Pneumonia from Chest X-Ray Images(GitHub)</a>\n",
    "GitLab Link      : <a href=https://gitlab.com/anjanatiha/Detection-of-Pneumonia-from-Chest-X-Ray-Images>Detection of Pneumonia from Chest X-Ray Images(GitLab)</a>\n",
    "Portfolio        : <a href=https://anjanatiha.wixsite.com/website>Anjana Tiha's Portfolio</a>\n",
    "</pre>\n",
    "\n",
    "#### Dataset\n",
    "<pre>\n",
    "Dataset Name     : Chest X-Ray Images (Pneumonia)\n",
    "Dataset Link     : <a href=https://www.kaggle.com/paultimothymooney/chest-xray-pneumonia>Chest X-Ray Images (Pneumonia) Dataset (Kaggle)</a>\n",
    "                 : <a href=https://data.mendeley.com/datasets/rscbjbr9sj/2>Chest X-Ray Images (Pneumonia) Dataset (Original Dataset)</a>\n",
    "Original Paper   : <a href=https://www.cell.com/cell/fulltext/S0092-8674(18)30154-5>Identifying Medical Diagnoses and Treatable Diseases by Image-Based Deep Learning (Daniel S. Kermany, Michael Goldbaum, Wenjia Cai, M. Anthony Lewis, Huimin Xia, Kang Zhang)</a>\n",
    "                 : https://www.cell.com/cell/fulltext/S0092-8674(18)30154-5\n",
    "</pre>"
   ]
  },
  {
   "cell_type": "code",
   "execution_count": null,
   "metadata": {},
   "outputs": [],
   "source": [
    "'''\n",
    "Library/Tools Version -\n",
    "Python - v3.6.7\n",
    "argparse\n",
    "random\n",
    "numpy\n",
    "shutil\n",
    "gc\n",
    "re\n",
    "keras\n",
    "tensorflow\n",
    "PIL/Pillow\n",
    "matplotlib\n",
    "'''"
   ]
  },
  {
   "cell_type": "code",
   "execution_count": null,
   "metadata": {},
   "outputs": [],
   "source": [
    "'''\n",
    "tensorboard --logdir=logs\n",
    "%config IPCompleter.greedy=True\n",
    "'''"
   ]
  },
  {
   "cell_type": "code",
   "execution_count": 52,
   "metadata": {},
   "outputs": [],
   "source": [
    "from __future__ import print_function\n",
    "\n",
    "import argparse\n",
    "import sys\n",
    "import os\n",
    "\n",
    "import random\n",
    "\n",
    "import time\n",
    "\n",
    "import numpy as np\n",
    "\n",
    "import shutil\n",
    "\n",
    "import gc\n",
    "\n",
    "import re\n",
    "\n",
    "import keras\n",
    "from keras.preprocessing.image import ImageDataGenerator\n",
    "from keras import backend as K\n",
    "\n",
    "import tensorflow as tf\n",
    "\n",
    "from IPython.display import display\n",
    "from PIL import Image\n",
    "\n",
    "from matplotlib.pyplot import figure\n",
    "import matplotlib.pyplot as plt\n",
    "import matplotlib.image as mpimg\n",
    "%matplotlib inline"
   ]
  },
  {
   "cell_type": "code",
   "execution_count": 50,
   "metadata": {},
   "outputs": [],
   "source": [
    "# make or reset directory\n",
    "def mk_reset_dir(directory):\n",
    "    if os.path.exists(directory):\n",
    "        try:\n",
    "            shutil.rmtree(directory)\n",
    "            os.mkdir(directory)\n",
    "        except:\n",
    "            print(\"error:\", directory)\n",
    "    else:\n",
    "        try:\n",
    "            os.mkdir(directory)\n",
    "        except:\n",
    "            print(\"error create:\", directory)\n",
    "            \n",
    "\n",
    "def name_correct(name):\n",
    "    return re.sub(r'[^a-zA-Z,:]', ' ', name).title()"
   ]
  },
  {
   "cell_type": "code",
   "execution_count": 12,
   "metadata": {},
   "outputs": [],
   "source": [
    "# setting data path data seperated by class name\n",
    "training_dir = r\"data/input/train\"\n",
    "testing_dir = r\"data/input/test\"\n",
    "validation_dir = r\"data/input/val\"\n",
    "\n",
    "# setting output directory\n",
    "model_dir =  r\"data/output/models/\"\n",
    "log_dir = r\"data/output/logs\""
   ]
  },
  {
   "cell_type": "code",
   "execution_count": 13,
   "metadata": {},
   "outputs": [],
   "source": [
    "# model_dir"
   ]
  },
  {
   "cell_type": "code",
   "execution_count": 14,
   "metadata": {},
   "outputs": [],
   "source": [
    "# mk_reset_dir(model_dir)\n",
    "# mk_reset_dir(log_dir)"
   ]
  },
  {
   "cell_type": "code",
   "execution_count": 15,
   "metadata": {},
   "outputs": [],
   "source": [
    "# setting training parameters\n",
    "norm = 255.0\n",
    "rescale=1./norm\n",
    "shear_range=0.2\n",
    "zoom_range=0.2\n",
    "horizontal_flip=True\n",
    "\n",
    "# setting train, test, validation parameters\n",
    "target_size=(224, 224)\n",
    "# batch_size=32\n",
    "batch_size=64\n",
    "class_mode='categorical'\n",
    "\n",
    "loss='categorical_crossentropy'\n",
    "metrics=['accuracy']\n",
    "\n",
    "epochs = 50\n",
    "verbose = 1"
   ]
  },
  {
   "cell_type": "code",
   "execution_count": 16,
   "metadata": {},
   "outputs": [
    {
     "data": {
      "text/plain": [
       "'data/output/models/{epoch:02d}-val_acc-{val_acc:.2f}-val_loss-{val_loss:.2f}.hdf5'"
      ]
     },
     "execution_count": 16,
     "metadata": {},
     "output_type": "execute_result"
    }
   ],
   "source": [
    "model_file = model_dir+\"{epoch:02d}-val_acc-{val_acc:.2f}-val_loss-{val_loss:.2f}.hdf5\"\n",
    "# model_file = \"weights-{epoch:02d}-val_acc-{val_acc:.2f}.hdf5\"\n",
    "model_file"
   ]
  },
  {
   "cell_type": "code",
   "execution_count": 17,
   "metadata": {},
   "outputs": [
    {
     "name": "stdout",
     "output_type": "stream",
     "text": [
      "Found 5216 images belonging to 2 classes.\n",
      "Found 320 images belonging to 2 classes.\n",
      "Found 320 images belonging to 2 classes.\n"
     ]
    }
   ],
   "source": [
    "# data generator for training\n",
    "train_datagen = ImageDataGenerator(\n",
    "        rescale=rescale,\n",
    "        shear_range=shear_range,\n",
    "        zoom_range=zoom_range,\n",
    "        horizontal_flip=horizontal_flip)\n",
    "\n",
    "train_generator = train_datagen.flow_from_directory(\n",
    "        training_dir,\n",
    "        target_size=target_size,\n",
    "        batch_size=batch_size,\n",
    "        class_mode=class_mode)\n",
    "\n",
    "# data generator for validation\n",
    "validation_datagen = ImageDataGenerator(rescale=rescale)\n",
    "validation_generator = validation_datagen.flow_from_directory(\n",
    "        validation_dir,\n",
    "        target_size=target_size,\n",
    "        batch_size=batch_size,\n",
    "        class_mode=class_mode)\n",
    "\n",
    "# data generator for testing\n",
    "test_datagen = ImageDataGenerator(rescale=rescale)\n",
    "test_generator = test_datagen.flow_from_directory(\n",
    "        testing_dir,\n",
    "        target_size=target_size,\n",
    "        batch_size=batch_size,\n",
    "        class_mode=class_mode)"
   ]
  },
  {
   "cell_type": "code",
   "execution_count": 18,
   "metadata": {},
   "outputs": [],
   "source": [
    "from keras.models import Model\n",
    "from keras.applications.inception_v3 import InceptionV3\n",
    "from keras.layers import Dense, GlobalAveragePooling2D\n",
    "from keras import optimizers\n",
    "\n",
    "# importing inception model\n",
    "base_model = InceptionV3(weights='imagenet', include_top=False)\n",
    "\n",
    "# setting model layers specially output layer with class number\n",
    "x = base_model.output\n",
    "x = GlobalAveragePooling2D()(x)\n",
    "x = Dense(1024, activation='relu')(x)\n",
    "predictions = Dense(2, activation='softmax')(x)\n",
    "\n",
    "#loading model\n",
    "model = Model(inputs=base_model.input, outputs=predictions)\n",
    "\n",
    "\n",
    "#print layers of inception model\n",
    "# for i, layer in enumerate(base_model.layers):\n",
    "#     print(i, layer.name)\n",
    "    \n",
    "    \n",
    "# set all laeyrs as untrainable\n",
    "for layer in base_model.layers:\n",
    "    layer.trainable = False\n",
    "    \n",
    "# train the top inception layers \n",
    "# freeze first 249 layers\n",
    "# unfreeze the rest\n",
    "for layer in model.layers[:249]:\n",
    "    layer.trainable = False\n",
    "for layer in model.layers[249:]:\n",
    "    layer.trainable = True\n",
    "    \n",
    "# set optimizer\n",
    "# sgd = optimizers.Adam()\n",
    "# sgd = optimizers.Adam(lr=0.001)\n",
    "sgd = optimizers.Adam(lr=0.0001)\n",
    "# sgd = optimizers.SGD()\n",
    "# sgd = optimizers.SGD(lr=0.01, decay=1e-6, momentum=0.9, nesterov=True)\n",
    "# sgd = optimizer=SGD(lr=0.0001, momentum=0.9)\n",
    "\n",
    "# compile model with optimizer and loss\n",
    "model.compile(sgd, loss=loss, metrics=metrics)"
   ]
  },
  {
   "cell_type": "code",
   "execution_count": 19,
   "metadata": {},
   "outputs": [],
   "source": [
    "checkpoint = keras.callbacks.ModelCheckpoint(model_file, monitor='val_acc', verbose=0, save_best_only=False, save_weights_only=False, mode='auto', period=1)\n",
    "\n",
    "\n",
    "early_stopping = keras.callbacks.EarlyStopping(monitor='val_loss', min_delta=0, patience=0, verbose=0, mode='auto', baseline=None)\n",
    "# early_stopping = keras.callbacks.EarlyStopping(monitor='val_loss', min_delta=0, patience=5, verbose=0, mode='auto', baseline=None)\n",
    "# early_stopping = keras.callbacks.EarlyStopping(monitor='val_acc', min_delta=0, patience=0, verbose=0, mode='auto', baseline=None)\n",
    "\n",
    "tensorboard = keras.callbacks.TensorBoard(log_dir=log_dir, histogram_freq=0, batch_size=32, write_graph=True, write_grads=False, write_images=False, embeddings_freq=0, embeddings_layer_names=None, embeddings_metadata=None, embeddings_data=None)\n",
    "# tensorboard = keras.callbacks.TensorBoard(log_dir=log_dir, histogram_freq=1, batch_size=32, write_graph=True, write_grads=False, write_images=True, embeddings_freq=0, embeddings_layer_names=None, embeddings_metadata=None, embeddings_data=None)\n",
    "\n",
    "tensorboard.set_model(model) \n",
    "\n",
    "# callbacks_list = [checkpoint, tensorboard, early_stopping]\n",
    "callbacks_list = [checkpoint, tensorboard]"
   ]
  },
  {
   "cell_type": "code",
   "execution_count": 12,
   "metadata": {},
   "outputs": [
    {
     "name": "stdout",
     "output_type": "stream",
     "text": [
      "Epoch 1/50\n",
      "82/82 [==============================] - 204s 2s/step - loss: 0.1958 - acc: 0.9179 - val_loss: 1.9855 - val_acc: 0.6219\n",
      "Epoch 2/50\n",
      "82/82 [==============================] - 156s 2s/step - loss: 0.1174 - acc: 0.9516 - val_loss: 1.6035 - val_acc: 0.6281\n",
      "Epoch 3/50\n",
      "82/82 [==============================] - 162s 2s/step - loss: 0.0914 - acc: 0.9680 - val_loss: 0.4649 - val_acc: 0.8031\n",
      "Epoch 4/50\n",
      "82/82 [==============================] - 168s 2s/step - loss: 0.0815 - acc: 0.9701 - val_loss: 1.0920 - val_acc: 0.6625\n",
      "Epoch 5/50\n",
      "82/82 [==============================] - 199s 2s/step - loss: 0.0745 - acc: 0.9724 - val_loss: 1.1715 - val_acc: 0.6781\n",
      "Epoch 6/50\n",
      "82/82 [==============================] - 158s 2s/step - loss: 0.0700 - acc: 0.9758 - val_loss: 0.9485 - val_acc: 0.7281\n",
      "Epoch 7/50\n",
      "82/82 [==============================] - 138s 2s/step - loss: 0.0568 - acc: 0.9790 - val_loss: 1.1787 - val_acc: 0.6781\n",
      "Epoch 8/50\n",
      "82/82 [==============================] - 131s 2s/step - loss: 0.0498 - acc: 0.9800 - val_loss: 0.7904 - val_acc: 0.7469\n",
      "Epoch 9/50\n",
      "82/82 [==============================] - 126s 2s/step - loss: 0.0532 - acc: 0.9800 - val_loss: 1.5936 - val_acc: 0.6438\n",
      "Epoch 10/50\n",
      "82/82 [==============================] - 161s 2s/step - loss: 0.0542 - acc: 0.9792 - val_loss: 0.9998 - val_acc: 0.7000\n",
      "Epoch 11/50\n",
      "82/82 [==============================] - 154s 2s/step - loss: 0.0428 - acc: 0.9832 - val_loss: 0.7654 - val_acc: 0.7344\n",
      "Epoch 12/50\n",
      "82/82 [==============================] - 128s 2s/step - loss: 0.0452 - acc: 0.9827 - val_loss: 0.6584 - val_acc: 0.7438\n",
      "Epoch 13/50\n",
      "82/82 [==============================] - 126s 2s/step - loss: 0.0351 - acc: 0.9872 - val_loss: 0.7254 - val_acc: 0.7375\n",
      "Epoch 14/50\n",
      "82/82 [==============================] - 131s 2s/step - loss: 0.0428 - acc: 0.9859 - val_loss: 1.3431 - val_acc: 0.6594\n",
      "Epoch 15/50\n",
      "82/82 [==============================] - 137s 2s/step - loss: 0.0386 - acc: 0.9857 - val_loss: 0.9660 - val_acc: 0.6969\n",
      "Epoch 16/50\n",
      "82/82 [==============================] - 145s 2s/step - loss: 0.0265 - acc: 0.9897 - val_loss: 0.6518 - val_acc: 0.7625\n",
      "Epoch 17/50\n",
      "82/82 [==============================] - 161s 2s/step - loss: 0.0328 - acc: 0.9861 - val_loss: 0.4158 - val_acc: 0.8156\n",
      "Epoch 18/50\n",
      "82/82 [==============================] - 160s 2s/step - loss: 0.0430 - acc: 0.9849 - val_loss: 0.7157 - val_acc: 0.7562\n",
      "Epoch 19/50\n",
      "82/82 [==============================] - 169s 2s/step - loss: 0.0313 - acc: 0.9889 - val_loss: 0.7466 - val_acc: 0.7531\n",
      "Epoch 20/50\n",
      "82/82 [==============================] - 165s 2s/step - loss: 0.0370 - acc: 0.9869 - val_loss: 0.5595 - val_acc: 0.8000\n",
      "Epoch 21/50\n",
      "82/82 [==============================] - 160s 2s/step - loss: 0.0367 - acc: 0.9870 - val_loss: 0.6741 - val_acc: 0.8000\n",
      "Epoch 22/50\n",
      "82/82 [==============================] - 160s 2s/step - loss: 0.0269 - acc: 0.9897 - val_loss: 0.8936 - val_acc: 0.7438\n",
      "Epoch 23/50\n",
      "82/82 [==============================] - 145s 2s/step - loss: 0.0197 - acc: 0.9924 - val_loss: 1.2047 - val_acc: 0.7031\n",
      "Epoch 24/50\n",
      "82/82 [==============================] - 126s 2s/step - loss: 0.0276 - acc: 0.9903 - val_loss: 1.0289 - val_acc: 0.7625\n",
      "Epoch 25/50\n",
      "82/82 [==============================] - 120s 1s/step - loss: 0.0232 - acc: 0.9931 - val_loss: 0.5731 - val_acc: 0.8313\n",
      "Epoch 26/50\n",
      "82/82 [==============================] - 119s 1s/step - loss: 0.0240 - acc: 0.9907 - val_loss: 0.9535 - val_acc: 0.7438\n",
      "Epoch 27/50\n",
      "82/82 [==============================] - 119s 1s/step - loss: 0.0282 - acc: 0.9907 - val_loss: 1.1145 - val_acc: 0.7156\n",
      "Epoch 28/50\n",
      "82/82 [==============================] - 120s 1s/step - loss: 0.0228 - acc: 0.9928 - val_loss: 1.0946 - val_acc: 0.7219\n",
      "Epoch 29/50\n",
      "82/82 [==============================] - 119s 1s/step - loss: 0.0241 - acc: 0.9920 - val_loss: 0.7397 - val_acc: 0.7844\n",
      "Epoch 30/50\n",
      "82/82 [==============================] - 120s 1s/step - loss: 0.0213 - acc: 0.9916 - val_loss: 0.4795 - val_acc: 0.8812\n",
      "Epoch 31/50\n",
      "82/82 [==============================] - 119s 1s/step - loss: 0.0209 - acc: 0.9928 - val_loss: 0.7171 - val_acc: 0.8250\n",
      "Epoch 32/50\n",
      "82/82 [==============================] - 119s 1s/step - loss: 0.0202 - acc: 0.9922 - val_loss: 1.1263 - val_acc: 0.7562\n",
      "Epoch 33/50\n",
      "82/82 [==============================] - 119s 1s/step - loss: 0.0275 - acc: 0.9899 - val_loss: 0.4399 - val_acc: 0.8656\n",
      "Epoch 34/50\n",
      "82/82 [==============================] - 119s 1s/step - loss: 0.0212 - acc: 0.9928 - val_loss: 0.4023 - val_acc: 0.8812\n",
      "Epoch 35/50\n",
      "82/82 [==============================] - 119s 1s/step - loss: 0.0267 - acc: 0.9901 - val_loss: 0.8508 - val_acc: 0.7906\n",
      "Epoch 36/50\n",
      "82/82 [==============================] - 120s 1s/step - loss: 0.0176 - acc: 0.9933 - val_loss: 1.2443 - val_acc: 0.7156\n",
      "Epoch 37/50\n",
      "82/82 [==============================] - 119s 1s/step - loss: 0.0136 - acc: 0.9945 - val_loss: 0.5975 - val_acc: 0.8531\n",
      "Epoch 38/50\n",
      "82/82 [==============================] - 119s 1s/step - loss: 0.0147 - acc: 0.9956 - val_loss: 0.6242 - val_acc: 0.8500\n",
      "Epoch 39/50\n",
      "82/82 [==============================] - 123s 2s/step - loss: 0.0235 - acc: 0.9922 - val_loss: 1.1622 - val_acc: 0.7625\n",
      "Epoch 40/50\n",
      "82/82 [==============================] - 128s 2s/step - loss: 0.0186 - acc: 0.9937 - val_loss: 0.5233 - val_acc: 0.8594\n",
      "Epoch 41/50\n",
      "82/82 [==============================] - 151s 2s/step - loss: 0.0197 - acc: 0.9933 - val_loss: 0.3149 - val_acc: 0.8781\n",
      "Epoch 42/50\n",
      "82/82 [==============================] - 157s 2s/step - loss: 0.0199 - acc: 0.9926 - val_loss: 0.4299 - val_acc: 0.8469\n",
      "Epoch 43/50\n",
      "82/82 [==============================] - 161s 2s/step - loss: 0.0176 - acc: 0.9941 - val_loss: 0.4317 - val_acc: 0.8531\n",
      "Epoch 44/50\n",
      "82/82 [==============================] - 132s 2s/step - loss: 0.0116 - acc: 0.9962 - val_loss: 0.4365 - val_acc: 0.8594\n",
      "Epoch 45/50\n",
      "82/82 [==============================] - 131s 2s/step - loss: 0.0177 - acc: 0.9937 - val_loss: 0.4335 - val_acc: 0.8750\n",
      "Epoch 46/50\n",
      "82/82 [==============================] - 133s 2s/step - loss: 0.0132 - acc: 0.9947 - val_loss: 0.4500 - val_acc: 0.8750\n",
      "Epoch 47/50\n",
      "82/82 [==============================] - 142s 2s/step - loss: 0.0107 - acc: 0.9960 - val_loss: 0.7888 - val_acc: 0.8281\n",
      "Epoch 48/50\n",
      "82/82 [==============================] - 132s 2s/step - loss: 0.0192 - acc: 0.9937 - val_loss: 0.6330 - val_acc: 0.8187\n",
      "Epoch 49/50\n",
      "82/82 [==============================] - 141s 2s/step - loss: 0.0153 - acc: 0.9956 - val_loss: 0.6091 - val_acc: 0.8063\n",
      "Epoch 50/50\n",
      "82/82 [==============================] - 166s 2s/step - loss: 0.0179 - acc: 0.9943 - val_loss: 1.2105 - val_acc: 0.6906\n"
     ]
    }
   ],
   "source": [
    "# train inception model\n",
    "# fine-tuning the top layers\n",
    "history = model.fit_generator(\n",
    "    train_generator,\n",
    "    epochs=epochs,\n",
    "    steps_per_epoch = len(train_generator),\n",
    "    validation_data=validation_generator,\n",
    "    validation_steps=len(validation_generator),\n",
    "    callbacks=callbacks_list)"
   ]
  },
  {
   "cell_type": "code",
   "execution_count": 15,
   "metadata": {},
   "outputs": [
    {
     "data": {
      "image/png": "[encoded data removed]",
      "text/plain": [
       "<Figure size 432x288 with 1 Axes>"
      ]
     },
     "metadata": {},
     "output_type": "display_data"
    },
    {
     "data": {
      "image/png": "[encoded data removed]",
      "text/plain": [
       "<Figure size 432x288 with 1 Axes>"
      ]
     },
     "metadata": {},
     "output_type": "display_data"
    }
   ],
   "source": [
    "# Plot training & validation accuracy values\n",
    "plt.plot(history.history['acc'])\n",
    "plt.plot(history.history['val_acc'])\n",
    "plt.title('Model accuracy')\n",
    "plt.ylabel('Accuracy')\n",
    "plt.xlabel('Epoch')\n",
    "plt.legend(['Train', 'Val'], loc='upper left')\n",
    "plt.show()\n",
    "\n",
    "# Plot training & validation loss values\n",
    "plt.plot(history.history['loss'])\n",
    "plt.plot(history.history['val_loss'])\n",
    "plt.title('Model loss')\n",
    "plt.ylabel('Loss')\n",
    "plt.xlabel('Epoch')\n",
    "plt.legend(['Train', 'Val'], loc='upper left')\n",
    "plt.show()"
   ]
  },
  {
   "cell_type": "code",
   "execution_count": null,
   "metadata": {},
   "outputs": [],
   "source": [
    "#Retraining"
   ]
  },
  {
   "cell_type": "code",
   "execution_count": null,
   "metadata": {},
   "outputs": [],
   "source": [
    "# setting retraining from old model\n",
    "model_path = \"data/output/models/\"+\"46-val_acc-0.88-val_loss-0.45.hdf5\"\n",
    "# model_path = model_+\"\\\\data\\\\outputs\\\\models\\\\\"+\"modelsweights-03-val_acc-0.89-val_loss-0.28.hdf5\"\n",
    "epochs=15\n",
    "verbose=1\n",
    "\n",
    "model = keras.models.load_model(model_path)\n",
    "\n",
    "# retrain by loading last good model\n",
    "history = model.fit_generator(\n",
    "    train_generator,\n",
    "    epochs=epochs,\n",
    "    validation_data=validation_generator,\n",
    "    callbacks=callbacks_list)"
   ]
  },
  {
   "cell_type": "code",
   "execution_count": 31,
   "metadata": {},
   "outputs": [
    {
     "name": "stdout",
     "output_type": "stream",
     "text": [
      "Model No: 0\n",
      "Model File Path: 01-val_acc-0.62-val_loss-1.99.hdf5\n",
      "********************************************************************************\n",
      "Best Test Accuracy: 62.19%\n",
      "Best Test Loss: 2.06\n",
      "--------------------------------------------------------------------------------\n",
      "Best Test Accuracy (Loss wise): 62.19%\n",
      "Best Test Loss (Loss wise): 2.06\n",
      "Model No: 10\n",
      "Model File Path: 11-val_acc-0.73-val_loss-0.77.hdf5\n",
      "********************************************************************************\n",
      "Best Test Accuracy: 80.94%\n",
      "Best Test Loss: 0.60\n",
      "--------------------------------------------------------------------------------\n",
      "Best Test Accuracy (Loss wise): 79.06%\n",
      "Best Test Loss (Loss wise): 0.44\n",
      "Model No: 20\n",
      "Model File Path: 21-val_acc-0.80-val_loss-0.67.hdf5\n",
      "********************************************************************************\n",
      "Best Test Accuracy: 83.75%\n",
      "Best Test Loss: 0.42\n",
      "--------------------------------------------------------------------------------\n",
      "Best Test Accuracy (Loss wise): 83.75%\n",
      "Best Test Loss (Loss wise): 0.42\n",
      "Model No: 30\n",
      "Model File Path: 31-val_acc-0.82-val_loss-0.72.hdf5\n",
      "********************************************************************************\n",
      "Best Test Accuracy: 83.75%\n",
      "Best Test Loss: 0.42\n",
      "--------------------------------------------------------------------------------\n",
      "Best Test Accuracy (Loss wise): 83.75%\n",
      "Best Test Loss (Loss wise): 0.42\n",
      "Model No: 40\n",
      "Model File Path: 41-val_acc-0.88-val_loss-0.31.hdf5\n",
      "********************************************************************************\n",
      "Best Test Accuracy: 83.75%\n",
      "Best Test Loss: 0.42\n",
      "--------------------------------------------------------------------------------\n",
      "Best Test Accuracy (Loss wise): 83.75%\n",
      "Best Test Loss (Loss wise): 0.42\n",
      "Model No: 50\n",
      "Model File Path: modelsweights-01-val_acc-0.69-val_loss-0.55.hdf5\n",
      "********************************************************************************\n",
      "Best Test Accuracy: 83.75%\n",
      "Best Test Loss: 0.42\n",
      "--------------------------------------------------------------------------------\n",
      "Best Test Accuracy (Loss wise): 83.75%\n",
      "Best Test Loss (Loss wise): 0.42\n"
     ]
    }
   ],
   "source": [
    "# testing model\n",
    "\n",
    "details = False\n",
    "best_accuracy = 0\n",
    "best_loss = 0\n",
    "\n",
    "lowest_accuracy = 100\n",
    "lowest_loss = 1000000\n",
    "\n",
    "models_path = \"data\\\\output\\\\models\\\\\"\n",
    "\n",
    "best_model_acc = \"\"\n",
    "best_model_loss = \"\"\n",
    "\n",
    "models_arr = []\n",
    "accuracy_arr = []\n",
    "loss_arr = []\n",
    "\n",
    "model_files = os.listdir(models_path)\n",
    "\n",
    "i=0\n",
    "for model_file in model_files:\n",
    "    model_path = models_path+\"\\\\\"+model_file\n",
    "    try:\n",
    "        del model\n",
    "    except:\n",
    "        pass\n",
    "    tf.reset_default_graph()\n",
    "    K.clear_session()\n",
    "    gc.collect()\n",
    "    \n",
    "    model = keras.models.load_model(model_path)\n",
    "    \n",
    "    result = model.evaluate_generator(generator=test_generator, steps=len(test_generator))\n",
    "    \n",
    "    accuracy = result[1]*100\n",
    "    loss = result[0]\n",
    "    \n",
    "    accuracy_arr.append(accuracy)\n",
    "    loss_arr.append(loss)\n",
    "    models_arr.append(model_path)\n",
    "    \n",
    "    if accuracy>best_accuracy:\n",
    "        best_accuracy = accuracy\n",
    "        best_loss = loss\n",
    "        best_model_acc=model_path\n",
    "        \n",
    "    if loss<lowest_loss:\n",
    "        lowest_accuracy = accuracy\n",
    "        lowest_loss = loss\n",
    "        best_model_loss=model_path\n",
    "        \n",
    "    if details:\n",
    "        print(\"%s%s\"%(\"Model No: \", i))\n",
    "        print(\"%s%s\"%(\"Model File Path: \", model_file))\n",
    "        print(\"*\"*80)\n",
    "        print(\"%s%.2f%s\"% (\"Current Accuracy: \", accuracy, \"%\"))\n",
    "        print(\"%s%.2f\"% (\"Current Loss: \", loss))\n",
    "\n",
    "        print(\"-\"*80)\n",
    "        print(\"-\"*80)\n",
    "        \n",
    "        print(\"%s%.2f%s\"% (\"Best Test Accuracy (Accuracy wise):\", best_accuracy, \"%\"))\n",
    "        print(\"%s%.2f\"% (\"Best Test Loss (Accuracy wise): \", best_loss))\n",
    "\n",
    "        print(\"-\"*80)\n",
    "\n",
    "        print(\"%s%.2f%s\"% (\"Best Test Accuracy (Loss wise): \", lowest_accuracy, \"%\"))\n",
    "        print(\"%s%.2f\"% (\"Best Test Loss (Loss wise): \", lowest_loss))\n",
    "\n",
    "    elif i%10==0:\n",
    "        print(\"%s%s\"%(\"Model No: \", i))\n",
    "        print(\"%s%s\"%(\"Model File Path: \", model_file))\n",
    "        print(\"*\"*80)\n",
    "        \n",
    "        print(\"%s%.2f%s\"% (\"Best Test Accuracy: \", best_accuracy, \"%\"))\n",
    "        print(\"%s%.2f\"% (\"Best Test Loss: \", best_loss))\n",
    "\n",
    "        print(\"-\"*80)\n",
    "\n",
    "        print(\"%s%.2f%s\"% (\"Best Test Accuracy (Loss wise): \", lowest_accuracy, \"%\"))\n",
    "        print(\"%s%.2f\"% (\"Best Test Loss (Loss wise): \", lowest_loss))\n",
    "    \n",
    "    i+=1"
   ]
  },
  {
   "cell_type": "code",
   "execution_count": 32,
   "metadata": {},
   "outputs": [
    {
     "name": "stdout",
     "output_type": "stream",
     "text": [
      "----------------- Summary of Model Performance on Test Dataset -----------------\n",
      "Best Model Path (Accuracy): data\\output\\models\\\\17-val_acc-0.82-val_loss-0.42.hdf5\n",
      "Best Test Accuracy: 83.75%\n",
      "Best Test Loss: 0.42\n",
      "----------------------------------------------------------------------------------------------------\n",
      "----------------------------------------------------------------------------------------------------\n",
      "Best Model Path (Loss): data\\output\\models\\\\17-val_acc-0.82-val_loss-0.42.hdf5\n",
      "Best Test Accuracy: 83.75%\n",
      "Best Test Loss: 0.42\n"
     ]
    }
   ],
   "source": [
    "print(\"-\"*17,\"Summary of Model Performance on Test Dataset\", \"-\"*17)\n",
    "\n",
    "print(\"%s%s\"% (\"Best Model Path (Accuracy): \", best_model_acc))\n",
    "print(\"%s%.2f%s\"% (\"Best Test Accuracy: \", best_accuracy, \"%\"))\n",
    "print(\"%s%.2f\"% (\"Best Test Loss: \", best_loss))\n",
    "\n",
    "print(\"-\"*100)\n",
    "print(\"-\"*100)\n",
    "\n",
    "print(\"%s%s\"% (\"Best Model Path (Loss): \", best_model_loss))\n",
    "print(\"%s%.2f%s\"% (\"Best Test Accuracy: \", lowest_accuracy, \"%\"))\n",
    "print(\"%s%.2f\"% (\"Best Test Loss: \", lowest_loss))"
   ]
  },
  {
   "cell_type": "code",
   "execution_count": 47,
   "metadata": {},
   "outputs": [
    {
     "data": {
      "image/png": "[encoded data removed]",
      "text/plain": [
       "<Figure size 432x288 with 1 Axes>"
      ]
     },
     "metadata": {},
     "output_type": "display_data"
    },
    {
     "data": {
      "image/png": "[encoded data removed]",
      "text/plain": [
       "<Figure size 432x288 with 1 Axes>"
      ]
     },
     "metadata": {},
     "output_type": "display_data"
    }
   ],
   "source": [
    "x_axis_arr = np.arange(len(accuracy_arr))\n",
    "plt.title(\"Test Dataset Performance (Accuracy)\")\n",
    "plt.plot(x_axis_arr, accuracy_arr)\n",
    "plt.xlabel(\"Iteration Number\")\n",
    "plt.ylabel(\"Accuracy (100%)\")\n",
    "plt.show()\n",
    "\n",
    "x_axis_arr = np.arange(len(loss_arr))\n",
    "plt.title(\"Test Dataset Performance (Loss)\")\n",
    "plt.plot(x_axis_arr, loss_arr)\n",
    "plt.xlabel(\"Iteration Number\")\n",
    "plt.ylabel(\"Loss\")\n",
    "plt.show()"
   ]
  },
  {
   "cell_type": "code",
   "execution_count": 55,
   "metadata": {},
   "outputs": [],
   "source": [
    "model_path = \"data/output/models/\"+\"17-val_acc-0.82-val_loss-0.42.hdf5\""
   ]
  },
  {
   "cell_type": "code",
   "execution_count": 54,
   "metadata": {},
   "outputs": [
    {
     "name": "stdout",
     "output_type": "stream",
     "text": [
      "----------------- Summary of Best Model Performance on Test Dataset -----------------\n",
      "Test Accuracy: 80.31%\n",
      "Test Loss: 0.49\n"
     ]
    }
   ],
   "source": [
    "# testing model\n",
    "model = keras.models.load_model(model_path)\n",
    "result = model.evaluate_generator(generator=test_generator, steps=len(test_generator))\n",
    "print(\"-\"*17,\"Summary of Best Model Performance on Test Dataset\", \"-\"*17)\n",
    "print(\"%s%.2f%s\"% (\"Test Accuracy: \", result[1]*100, \"%\"))\n",
    "print(\"%s%.2f\"% (\"Test Loss: \", result[0]))"
   ]
  },
  {
   "cell_type": "code",
   "execution_count": 56,
   "metadata": {},
   "outputs": [
    {
     "name": "stdout",
     "output_type": "stream",
     "text": [
      "----------------- Summary of Best Model Performance on Test Dataset -----------------\n"
     ]
    }
   ],
   "source": [
    "# testing model\n",
    "print(\"-\"*17,\"Summary of Best Model Performance on Test Dataset\", \"-\"*17)\n",
    "model = keras.models.load_model(model_path)\n",
    "preds = model.predict_generator(test_generator, steps=len(test_generator))\n",
    "y_classes = preds.argmax(axis=-1)"
   ]
  },
  {
   "cell_type": "code",
   "execution_count": null,
   "metadata": {},
   "outputs": [],
   "source": [
    "# ! pip install mlxtend"
   ]
  },
  {
   "cell_type": "code",
   "execution_count": null,
   "metadata": {},
   "outputs": [],
   "source": [
    "from sklearn.metrics import classification_report, confusion_matrix\n",
    "from mlxtend.plotting import plot_confusion_matrix\n",
    "\n",
    "CM = confusion_matrix(test_generator.classes, y_classes)\n",
    "fig, ax = plot_confusion_matrix(conf_mat=CM ,  figsize=(12,8), hide_ticks=True,cmap=plt.cm.Blues)\n",
    "plt.xticks(range(2), ['Normal', 'Pneumonia'], fontsize=16)\n",
    "plt.yticks(range(2), ['Normal', 'Pneumonia'], fontsize=16)\n",
    "plt.show()"
   ]
  },
  {
   "cell_type": "code",
   "execution_count": null,
   "metadata": {},
   "outputs": [],
   "source": [
    "target_names = ['Normal', 'Pneumonia']\n",
    "print(classification_report(test_generator.classes, y_classes, target_names=target_names))"
   ]
  },
  {
   "cell_type": "code",
   "execution_count": null,
   "metadata": {},
   "outputs": [],
   "source": [
    "# Calculate Precision and Recall\n",
    "tn, fp, fn, tp = CM.ravel()\n",
    "\n",
    "precision = tp/(tp+fp)\n",
    "recall = tp/(tp+fn)\n",
    "\n",
    "print(\"Recall of the model is {:.2f}\".format(recall))\n",
    "print(\"Precision of the model is {:.2f}\".format(precision))"
   ]
  },
  {
   "cell_type": "code",
   "execution_count": null,
   "metadata": {},
   "outputs": [],
   "source": [
    "label_map = (test_generator.class_indices)\n",
    "label_map_rev = {v: name_correct(k) for k,v in label_map.items()}"
   ]
  },
  {
   "cell_type": "code",
   "execution_count": null,
   "metadata": {},
   "outputs": [],
   "source": [
    "label_map_rev"
   ]
  },
  {
   "cell_type": "code",
   "execution_count": null,
   "metadata": {},
   "outputs": [],
   "source": [
    "num_batch_t = len(validation_generator)\n",
    "num = random.randint(0, num_batch_t-1)\n",
    "num"
   ]
  },
  {
   "cell_type": "code",
   "execution_count": null,
   "metadata": {},
   "outputs": [],
   "source": [
    "y_img_batch, y_class_batch = validation_generator[num] \n",
    "y_pred = np.argmax(model.predict(y_img_batch),-1)\n",
    "y_true = np.argmax(y_class_batch,-1)\n",
    "print(sum(y_pred==y_true)/batch_size)"
   ]
  },
  {
   "cell_type": "code",
   "execution_count": null,
   "metadata": {},
   "outputs": [],
   "source": [
    "y_true_labels = [label_map_rev[c] for c in y_true]\n",
    "y_pred_labels = [label_map_rev[c] for c in y_pred]"
   ]
  },
  {
   "cell_type": "code",
   "execution_count": null,
   "metadata": {},
   "outputs": [],
   "source": [
    "batch_size_t = len(y_true_labels)"
   ]
  },
  {
   "cell_type": "code",
   "execution_count": null,
   "metadata": {},
   "outputs": [],
   "source": [
    "from matplotlib.pyplot import figure\n",
    "import matplotlib.pyplot as plt\n",
    "import matplotlib.image as mpimg\n",
    "%matplotlib inline\n",
    "\n",
    "# figure(num=None, figsize=(8, 6), dpi=100, facecolor='w', edgecolor='k')\n",
    "\n",
    "fig, axs = plt.subplots(nrows=8, ncols=4, figsize=(9, 18),\n",
    "                        dpi=100, facecolor='w', edgecolor='k',\n",
    "                        subplot_kw={'xticks': [], 'yticks': []})\n",
    "\n",
    "plt.rcParams.update({'axes.titlesize': 'small'})\n",
    "plt.subplots_adjust(hspace=0.5, wspace=0.3)\n",
    "\n",
    "\n",
    "for i in range(0, batch_size_t): # how many imgs will show from the 3x3 grid\n",
    "    plt.subplot(8, 4, i+1)\n",
    "    plt.imshow(y_img_batch[i])\n",
    "    plt.xticks([])\n",
    "    plt.yticks([])\n",
    "    if y_true_labels[i]==y_pred_labels[i]:\n",
    "        plt.title(\"org: \" + y_true_labels[i] + \"\\npred: \" + y_pred_labels[i])\n",
    "    else:\n",
    "        plt.title(\"org: \" + y_true_labels[i] + \"\\npred: \" + y_pred_labels[i], color='red')\n",
    "        \n",
    "    fig.savefig(\"result\", dpi=100)\n",
    "plt.tight_layout()\n",
    "plt.show()\n"
   ]
  },
  {
   "cell_type": "code",
   "execution_count": null,
   "metadata": {},
   "outputs": [],
   "source": [
    "# ranfdomly selected image prediction visualization\n",
    "from matplotlib.pyplot import figure\n",
    "import matplotlib.pyplot as plt\n",
    "import matplotlib.image as mpimg\n",
    "%matplotlib inline\n",
    "\n",
    "# figure(num=None, figsize=(8, 6), dpi=100, facecolor='w', edgecolor='k')\n",
    "\n",
    "fig, axs = plt.subplots(nrows=3, ncols=3, figsize=(8, 8),\n",
    "                        dpi=100, facecolor='w', edgecolor='k',\n",
    "                        subplot_kw={'xticks': [], 'yticks': []})\n",
    "\n",
    "plt.rcParams.update({'axes.titlesize': 'small'})\n",
    "plt.subplots_adjust(hspace=0.5, wspace=0.3)\n",
    "\n",
    "\n",
    "m = {}\n",
    "\n",
    "for i in range(0,9): # how many imgs will show from the 3x3 grid\n",
    "    num=-1\n",
    "    while num in m:\n",
    "        num = random.randint(0, 31)\n",
    "    m[num]=1\n",
    "    plt.subplot(3, 3, i+1)\n",
    "    plt.imshow(y_img_batch[num])\n",
    "    plt.xticks([])\n",
    "    plt.yticks([])\n",
    "    if y_true_labels[num]==y_pred_labels[num]:\n",
    "        plt.title(\"org: \" + y_true_labels[num] + \"\\npred: \" + y_pred_labels[num])\n",
    "    else:\n",
    "        plt.title(\"org: \" + y_true_labels[num] + \"\\npred: \" + y_pred_labels[num], color='red')\n",
    "        \n",
    "    fig.savefig(\"sample\", dpi=100)\n",
    "plt.tight_layout()\n",
    "plt.show()\n"
   ]
  },
  {
   "cell_type": "code",
   "execution_count": null,
   "metadata": {},
   "outputs": [],
   "source": []
  },
  {
   "cell_type": "code",
   "execution_count": 32,
   "metadata": {},
   "outputs": [],
   "source": [
    "# getting parent directory\n",
    "# project_dir = os.path.abspath(os.path.join(os.getcwd(), os.pardir))\n",
    "\n",
    "# # setting data path data seperated by class name\n",
    "# training_dir = \"data\\\\input\\\\train\"\n",
    "# testing_dir = \"data\\\\input\\\\test\"\n",
    "# validation_dir = \"data\\\\input\\\\val\"\n",
    "\n",
    "# # joining path with parent path \n",
    "# training_dir = os.path.join(project_dir, training_dir)\n",
    "# testing_dir = os.path.join(project_dir, testing_dir)\n",
    "# validation_dir = os.path.join(project_dir, validation_dir)\n",
    "\n",
    "\n",
    "# # setting output directory\n",
    "# model_dir = \"data\\\\outputs\\\\models\"\n",
    "# log_dir = \"data\\\\outputs\\\\logs\"\n",
    "\n",
    "# # joining path with parent path \n",
    "# model_dir = os.path.join(project_dir, model_dir)\n",
    "# log_dir = os.path.join(project_dir, log_dir)\n"
   ]
  }
 ],
 "metadata": {
  "kernelspec": {
   "display_name": "Python 3",
   "language": "python",
   "name": "python3"
  },
  "language_info": {
   "codemirror_mode": {
    "name": "ipython",
    "version": 3
   },
   "file_extension": ".py",
   "mimetype": "text/x-python",
   "name": "python",
   "nbconvert_exporter": "python",
   "pygments_lexer": "ipython3",
   "version": "3.6.5"
  }
 },
 "nbformat": 4,
 "nbformat_minor": 2
}
